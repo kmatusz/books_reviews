{
 "cells": [
  {
   "cell_type": "markdown",
   "metadata": {},
   "source": [
    "### EDA - one row per file"
   ]
  },
  {
   "cell_type": "code",
   "execution_count": 1,
   "metadata": {},
   "outputs": [
    {
     "data": {
      "text/plain": [
       "{'isbn': '',\n",
       " 'text_reviews_count': '60',\n",
       " 'series': ['1052227'],\n",
       " 'country_code': 'US',\n",
       " 'language_code': 'eng',\n",
       " 'popular_shelves': [{'count': '54', 'name': 'currently-reading'},\n",
       "  {'count': '8', 'name': 'netgalley'},\n",
       "  {'count': '5', 'name': 'kindle'},\n",
       "  {'count': '3', 'name': 'read-2017'},\n",
       "  {'count': '3', 'name': 'read-in-2017'},\n",
       "  {'count': '3', 'name': 'paranormal'},\n",
       "  {'count': '2', 'name': 'ghost'},\n",
       "  {'count': '2', 'name': 'next-in-a-series'},\n",
       "  {'count': '2', 'name': 'mystery-pi'},\n",
       "  {'count': '2', 'name': 'ebook'},\n",
       "  {'count': '2', 'name': 'paranormal-mystery'},\n",
       "  {'count': '2', 'name': 'adult'},\n",
       "  {'count': '2', 'name': 'fantasy'},\n",
       "  {'count': '2', 'name': 'historical-fiction'},\n",
       "  {'count': '2', 'name': 'giveaway'},\n",
       "  {'count': '2', 'name': 'to-buy'},\n",
       "  {'count': '2', 'name': 'first-reads'},\n",
       "  {'count': '2', 'name': 'reviewed'},\n",
       "  {'count': '1', 'name': 'mystery'},\n",
       "  {'count': '1', 'name': 'four-star-books'},\n",
       "  {'count': '1', 'name': 'adult-favorites'},\n",
       "  {'count': '1', 'name': 'to-read-own'},\n",
       "  {'count': '1', 'name': 'owned-but-unread'},\n",
       "  {'count': '1', 'name': 'need-to-finish'},\n",
       "  {'count': '1', 'name': 'kindle-books'},\n",
       "  {'count': '1', 'name': 'challenge2017'},\n",
       "  {'count': '1', 'name': 'kindle-unlimited'},\n",
       "  {'count': '1', 'name': 'united-states'},\n",
       "  {'count': '1', 'name': 'southern'},\n",
       "  {'count': '1', 'name': 'historical-mystery-20th-c'},\n",
       "  {'count': '1', 'name': 'audio'},\n",
       "  {'count': '1', 'name': 'supernatural'},\n",
       "  {'count': '1', 'name': 'murder-mystery'},\n",
       "  {'count': '1', 'name': 'series'},\n",
       "  {'count': '1', 'name': 'paranormal-fantasy'},\n",
       "  {'count': '1', 'name': 'unlimited-books'},\n",
       "  {'count': '1', 'name': 'finished'},\n",
       "  {'count': '1', 'name': 'zz-alabama'},\n",
       "  {'count': '1', 'name': 'mystery-paranormal'},\n",
       "  {'count': '1', 'name': 'arcs-tbr'},\n",
       "  {'count': '1', 'name': 'not-read'},\n",
       "  {'count': '1', 'name': 'a-new'},\n",
       "  {'count': '1', 'name': 'read-arc'},\n",
       "  {'count': '1', 'name': 'rated'},\n",
       "  {'count': '1', 'name': 'from-netgalley'},\n",
       "  {'count': '1', 'name': 'giveaways'},\n",
       "  {'count': '1', 'name': 'want-more'},\n",
       "  {'count': '1', 'name': 'mystery-thriller'},\n",
       "  {'count': '1', 'name': 'adult-fantasy'},\n",
       "  {'count': '1', 'name': '2017-reading-challenge'},\n",
       "  {'count': '1', 'name': 'historical-mystery'},\n",
       "  {'count': '1', 'name': 'southern-usa'},\n",
       "  {'count': '1', 'name': 'paranormal-ghost'},\n",
       "  {'count': '1', 'name': 'tbr-later'},\n",
       "  {'count': '1', 'name': 'readingthing-2017'},\n",
       "  {'count': '1', 'name': 'cloak-and-dagger-2017'},\n",
       "  {'count': '1', 'name': '20booksofsummer-2017'},\n",
       "  {'count': '1', 'name': 'own-to-read'},\n",
       "  {'count': '1', 'name': 'goodreads-giveaways'},\n",
       "  {'count': '1', 'name': 'owned-kindle'},\n",
       "  {'count': '1', 'name': 'kindle-book'},\n",
       "  {'count': '1', 'name': 'first-reads-giveaways'},\n",
       "  {'count': '1', 'name': 'want-to-listen'},\n",
       "  {'count': '1', 'name': 'audible'},\n",
       "  {'count': '1', 'name': 'loan'},\n",
       "  {'count': '1', 'name': 'i-own-a-copy'},\n",
       "  {'count': '1', 'name': 'goodreads-giveaway-winner'},\n",
       "  {'count': '1', 'name': '1-own'},\n",
       "  {'count': '1', 'name': 'fiction'},\n",
       "  {'count': '1', 'name': 'thomas-and-mercer'},\n",
       "  {'count': '1', 'name': 'ng'},\n",
       "  {'count': '1', 'name': 'mystery-thrillers-suspense'},\n",
       "  {'count': '1', 'name': '2017-07-july'},\n",
       "  {'count': '1', 'name': 'e-books'},\n",
       "  {'count': '1', 'name': 'review-copies'},\n",
       "  {'count': '1', 'name': '2017-books'},\n",
       "  {'count': '1', 'name': 'cozy-mystery'},\n",
       "  {'count': '1', 'name': 'w-s-w'},\n",
       "  {'count': '1', 'name': 'will-read-all-by-this-author'},\n",
       "  {'count': '1', 'name': 'southern-lit'},\n",
       "  {'count': '1', 'name': 'author-to-follow'},\n",
       "  {'count': '1', 'name': '2017-challenge'},\n",
       "  {'count': '1', 'name': '2017-summer-want-to-read'},\n",
       "  {'count': '1', 'name': 'net-galley-books'},\n",
       "  {'count': '1', 'name': 'ebooks'},\n",
       "  {'count': '1', 'name': 'series-to-start'},\n",
       "  {'count': '1', 'name': 'help-me-decide-arc'},\n",
       "  {'count': '1', 'name': 'book-shelf'},\n",
       "  {'count': '1', 'name': 'owned-books'},\n",
       "  {'count': '1', 'name': 'next-in-series-not-out'},\n",
       "  {'count': '1', 'name': 'giveaways-entered'},\n",
       "  {'count': '1', 'name': 'need'},\n",
       "  {'count': '1', 'name': 'ghosts'}],\n",
       " 'asin': 'B01NCIKAQX',\n",
       " 'is_ebook': 'true',\n",
       " 'average_rating': '4.33',\n",
       " 'kindle_asin': 'B01NCIKAQX',\n",
       " 'similar_books': [],\n",
       " 'description': '',\n",
       " 'format': '',\n",
       " 'link': 'https://www.goodreads.com/book/show/33394837-the-house-of-memory',\n",
       " 'authors': [{'author_id': '242185', 'role': ''}],\n",
       " 'publisher': '',\n",
       " 'num_pages': '318',\n",
       " 'publication_day': '',\n",
       " 'isbn13': '',\n",
       " 'publication_month': '',\n",
       " 'edition_information': '',\n",
       " 'publication_year': '',\n",
       " 'url': 'https://www.goodreads.com/book/show/33394837-the-house-of-memory',\n",
       " 'image_url': 'https://images.gr-assets.com/books/1493114742m/33394837.jpg',\n",
       " 'book_id': '33394837',\n",
       " 'ratings_count': '269',\n",
       " 'work_id': '54143148',\n",
       " 'title': \"The House of Memory (Pluto's Snitch #2)\",\n",
       " 'title_without_series': \"The House of Memory (Pluto's Snitch #2)\"}"
      ]
     },
     "execution_count": 1,
     "metadata": {},
     "output_type": "execute_result"
    }
   ],
   "source": [
    "import gzip\n",
    "import json\n",
    "\n",
    "with gzip.open('data/goodreads_books_mystery_thriller_crime.json.gz','r') as file:        \n",
    "    raw_book = next(file)\n",
    "    raw_book = next(file)\n",
    "    \n",
    "json.loads(raw_book)"
   ]
  },
  {
   "cell_type": "code",
   "execution_count": 2,
   "metadata": {},
   "outputs": [
    {
     "data": {
      "text/plain": [
       "{'user_id': '8842281e1d1347389f2ab93d60773d4d',\n",
       " 'book_id': '6392944',\n",
       " 'review_id': '5e212a62bced17b4dbe41150e5bb9037',\n",
       " 'rating': 3,\n",
       " 'review_text': \"I haven't read a fun mystery book in a while and not sure I've ever read Poirot. Was looking for a fun read set in France while I was on holiday there and this didn't disappoint! Fast paced and good mystery. \\n One that struck me was how similar Poirot is to Sherlock. They are both detectives, have a ex-military sidekick who is telling the story, and solve mysteries using their superior wit. Poirot seems like a French Sherlock. I'm curious if he was inspired by Sherlock.\",\n",
       " 'date_added': 'Mon Jul 24 02:48:17 -0700 2017',\n",
       " 'date_updated': 'Sun Jul 30 09:28:03 -0700 2017',\n",
       " 'read_at': 'Tue Jul 25 00:00:00 -0700 2017',\n",
       " 'started_at': 'Mon Jul 24 00:00:00 -0700 2017',\n",
       " 'n_votes': 6,\n",
       " 'n_comments': 0}"
      ]
     },
     "execution_count": 2,
     "metadata": {},
     "output_type": "execute_result"
    }
   ],
   "source": [
    "import gzip\n",
    "import json\n",
    "\n",
    "with gzip.open('data/goodreads_reviews_mystery_thriller_crime.json.gz','r') as file:        \n",
    "    raw_review = next(file)\n",
    "    \n",
    "json.loads(raw_review)"
   ]
  },
  {
   "cell_type": "code",
   "execution_count": 3,
   "metadata": {},
   "outputs": [],
   "source": [
    "# import gzip\n",
    "# import json\n",
    "\n",
    "# with gzip.open('data/goodreads_interactions_mystery_thriller_crime.json.gz','r') as file:        \n",
    "#     raw_interaction = next(file)\n",
    "    \n",
    "# json.loads(raw_interaction)"
   ]
  },
  {
   "cell_type": "markdown",
   "metadata": {},
   "source": [
    "Nothing interesting in interactions file."
   ]
  },
  {
   "cell_type": "markdown",
   "metadata": {},
   "source": [
    "What to fetch from each file?\n",
    "\n",
    "Books:\n",
    "- author id\n",
    "- book_id\n",
    "- Book title\n",
    "- Average rating\n",
    "- number of reviews (text)\n",
    "- number of ratings (1-5)\n",
    "\n",
    "Reviews:\n",
    "- user_id\n",
    "- book_id\n",
    "- rating\n",
    "- review (text)"
   ]
  },
  {
   "cell_type": "markdown",
   "metadata": {},
   "source": [
    "### Load books"
   ]
  },
  {
   "cell_type": "code",
   "execution_count": 4,
   "metadata": {},
   "outputs": [],
   "source": [
    "book_dict = json.loads(raw_book)"
   ]
  },
  {
   "cell_type": "code",
   "execution_count": 5,
   "metadata": {},
   "outputs": [],
   "source": [
    "def fetch_keys_books(book_dict):\n",
    "    keys_to_fetch = ['text_reviews_count','average_rating', 'description', 'authors', 'book_id', 'ratings_count', 'title']\n",
    "    return {k: v for k, v in book_dict.items() if k in keys_to_fetch}"
   ]
  },
  {
   "cell_type": "code",
   "execution_count": 6,
   "metadata": {},
   "outputs": [
    {
     "data": {
      "text/plain": [
       "{'text_reviews_count': '60',\n",
       " 'average_rating': '4.33',\n",
       " 'description': '',\n",
       " 'authors': [{'author_id': '242185', 'role': ''}],\n",
       " 'book_id': '33394837',\n",
       " 'ratings_count': '269',\n",
       " 'title': \"The House of Memory (Pluto's Snitch #2)\"}"
      ]
     },
     "execution_count": 6,
     "metadata": {},
     "output_type": "execute_result"
    }
   ],
   "source": [
    "fetch_keys_books(book_dict)"
   ]
  },
  {
   "cell_type": "code",
   "execution_count": 7,
   "metadata": {},
   "outputs": [],
   "source": [
    "import time"
   ]
  },
  {
   "cell_type": "code",
   "execution_count": 8,
   "metadata": {},
   "outputs": [
    {
     "name": "stdout",
     "output_type": "stream",
     "text": [
      "starting\n",
      "Preparing book: 10000. Seconds passed: 2.9069197177886963\n",
      "Preparing book: 20000. Seconds passed: 5.687756776809692\n",
      "Preparing book: 30000. Seconds passed: 8.602893829345703\n",
      "Preparing book: 40000. Seconds passed: 11.852227449417114\n",
      "Preparing book: 50000. Seconds passed: 14.462191581726074\n",
      "Preparing book: 60000. Seconds passed: 16.75148916244507\n",
      "Preparing book: 70000. Seconds passed: 18.83963918685913\n",
      "Preparing book: 80000. Seconds passed: 21.88725781440735\n",
      "Preparing book: 90000. Seconds passed: 24.67278289794922\n",
      "Preparing book: 100000. Seconds passed: 26.808955192565918\n",
      "Preparing book: 110000. Seconds passed: 28.83198380470276\n",
      "Preparing book: 120000. Seconds passed: 30.814703464508057\n",
      "Preparing book: 130000. Seconds passed: 33.365150928497314\n",
      "Preparing book: 140000. Seconds passed: 35.85711097717285\n",
      "Preparing book: 150000. Seconds passed: 38.815767765045166\n",
      "Preparing book: 160000. Seconds passed: 41.43244409561157\n",
      "Preparing book: 170000. Seconds passed: 43.51185488700867\n",
      "Preparing book: 180000. Seconds passed: 46.31948733329773\n",
      "Preparing book: 190000. Seconds passed: 48.25452899932861\n",
      "Preparing book: 200000. Seconds passed: 50.39680480957031\n",
      "Preparing book: 210000. Seconds passed: 52.547587633132935\n"
     ]
    }
   ],
   "source": [
    "LIMIT_BOOKS = None\n",
    "\n",
    "\n",
    "with gzip.open('data/goodreads_books_mystery_thriller_crime.json.gz','r') as file:\n",
    "    time_start = time.time()\n",
    "    if LIMIT_BOOKS is None:\n",
    "        books_list = []\n",
    "        book_no = 0\n",
    "        print('starting')\n",
    "        \n",
    "            # Load next line\n",
    "        for raw_book in file:\n",
    "            \n",
    "            book_no += 1\n",
    "            if book_no % 10000 == 0:\n",
    "                # Logging\n",
    "                print('Preparing book: ' + str(book_no) + '. Seconds passed: ' + str(time.time()- time_start))\n",
    "            try:\n",
    "                # Try to load and preprocess\n",
    "                book_dict = json.loads(raw_book)\n",
    "                books_list.append(fetch_keys_books(book_dict))\n",
    "            except Exception as e:\n",
    "                # Print contents of failed line\n",
    "                print('Failure at book no. ' + str(book_no))\n",
    "                print(e)\n",
    "                print('contents:')\n",
    "                print(raw_book)\n",
    "                print('---------------------')\n",
    "                \n",
    "    else:\n",
    "        # For testing - smaller subset\n",
    "        books_list = [None]*LIMIT_BOOKS\n",
    "        for i in range(LIMIT_BOOKS):\n",
    "            raw_book = next(file)\n",
    "            book_dict = json.loads(raw_book)\n",
    "            books_list[i] = fetch_keys_books(book_dict)\n",
    "        "
   ]
  },
  {
   "cell_type": "markdown",
   "metadata": {},
   "source": [
    "219235 - as stated on the website"
   ]
  },
  {
   "cell_type": "code",
   "execution_count": 9,
   "metadata": {},
   "outputs": [
    {
     "data": {
      "text/plain": [
       "219235"
      ]
     },
     "execution_count": 9,
     "metadata": {},
     "output_type": "execute_result"
    }
   ],
   "source": [
    "len(books_list)"
   ]
  },
  {
   "cell_type": "code",
   "execution_count": 10,
   "metadata": {},
   "outputs": [
    {
     "data": {
      "text/plain": [
       "{'text_reviews_count': '14',\n",
       " 'average_rating': '4.04',\n",
       " 'description': 'Looking for respite in London after a stupefying visit from relatives, Mary encounters a friend from Oxford. The young woman introduces Mary to her current enthusiasm, a strange and enigmatic woman named Margery Childe, who leads something called \"The New Temple of God.\" It seems to be a charismatic sect involved in the post-World War I suffrage movement, with a feminist slant on Christianity. Mary is curious about the woman, and intrigued. Is the New Temple a front for something more sinister? When a series of murders claims members of the movement\\'s wealthy young female volunteers and principal contributors, Mary, with Holmes in the background, begins to investigate. Things become more desperate than either of them expected as Mary\\'s search plunges her into the worst danger she has faced yet.',\n",
       " 'authors': [{'author_id': '6760', 'role': ''}],\n",
       " 'book_id': '21081323',\n",
       " 'ratings_count': '60',\n",
       " 'title': 'A Monstrous Regiment of Women (Mary Russell, #2)'}"
      ]
     },
     "execution_count": 10,
     "metadata": {},
     "output_type": "execute_result"
    }
   ],
   "source": [
    "books_list[300]"
   ]
  },
  {
   "cell_type": "code",
   "execution_count": 11,
   "metadata": {},
   "outputs": [
    {
     "data": {
      "text/plain": [
       "{'text_reviews_count': '14',\n",
       " 'average_rating': '4.04',\n",
       " 'description': 'Looking for respite in London after a stupefying visit from relatives, Mary encounters a friend from Oxford. The young woman introduces Mary to her current enthusiasm, a strange and enigmatic woman named Margery Childe, who leads something called \"The New Temple of God.\" It seems to be a charismatic sect involved in the post-World War I suffrage movement, with a feminist slant on Christianity. Mary is curious about the woman, and intrigued. Is the New Temple a front for something more sinister? When a series of murders claims members of the movement\\'s wealthy young female volunteers and principal contributors, Mary, with Holmes in the background, begins to investigate. Things become more desperate than either of them expected as Mary\\'s search plunges her into the worst danger she has faced yet.',\n",
       " 'book_id': '21081323',\n",
       " 'ratings_count': '60',\n",
       " 'title': 'A Monstrous Regiment of Women (Mary Russell, #2)'}"
      ]
     },
     "execution_count": 11,
     "metadata": {},
     "output_type": "execute_result"
    }
   ],
   "source": [
    "{k: v for k,v in books_list[300].items() if k != 'authors'}"
   ]
  },
  {
   "cell_type": "code",
   "execution_count": 12,
   "metadata": {},
   "outputs": [],
   "source": [
    "import pandas as pd"
   ]
  },
  {
   "cell_type": "code",
   "execution_count": 13,
   "metadata": {},
   "outputs": [],
   "source": [
    "books_pd = pd.DataFrame(books_list).astype({'text_reviews_count': 'int32', \n",
    "                                            'average_rating': 'float32', \n",
    "                                            'ratings_count': 'int32'})"
   ]
  },
  {
   "cell_type": "code",
   "execution_count": 14,
   "metadata": {},
   "outputs": [
    {
     "data": {
      "text/html": [
       "<div>\n",
       "<style scoped>\n",
       "    .dataframe tbody tr th:only-of-type {\n",
       "        vertical-align: middle;\n",
       "    }\n",
       "\n",
       "    .dataframe tbody tr th {\n",
       "        vertical-align: top;\n",
       "    }\n",
       "\n",
       "    .dataframe thead th {\n",
       "        text-align: right;\n",
       "    }\n",
       "</style>\n",
       "<table border=\"1\" class=\"dataframe\">\n",
       "  <thead>\n",
       "    <tr style=\"text-align: right;\">\n",
       "      <th></th>\n",
       "      <th>text_reviews_count</th>\n",
       "      <th>average_rating</th>\n",
       "      <th>description</th>\n",
       "      <th>authors</th>\n",
       "      <th>book_id</th>\n",
       "      <th>ratings_count</th>\n",
       "      <th>title</th>\n",
       "    </tr>\n",
       "  </thead>\n",
       "  <tbody>\n",
       "    <tr>\n",
       "      <th>0</th>\n",
       "      <td>15</td>\n",
       "      <td>3.93</td>\n",
       "      <td>London, 1196. At the command of Richard the Li...</td>\n",
       "      <td>[{'author_id': '37778', 'role': ''}]</td>\n",
       "      <td>6066814</td>\n",
       "      <td>186</td>\n",
       "      <td>Crowner Royal (Crowner John Mystery, #13)</td>\n",
       "    </tr>\n",
       "    <tr>\n",
       "      <th>1</th>\n",
       "      <td>60</td>\n",
       "      <td>4.33</td>\n",
       "      <td></td>\n",
       "      <td>[{'author_id': '242185', 'role': ''}]</td>\n",
       "      <td>33394837</td>\n",
       "      <td>269</td>\n",
       "      <td>The House of Memory (Pluto's Snitch #2)</td>\n",
       "    </tr>\n",
       "    <tr>\n",
       "      <th>2</th>\n",
       "      <td>23</td>\n",
       "      <td>3.49</td>\n",
       "      <td>BATHS, BANKS AND ROMAN INSURRECTION\\nDetective...</td>\n",
       "      <td>[{'author_id': '15104629', 'role': ''}, {'auth...</td>\n",
       "      <td>29074697</td>\n",
       "      <td>192</td>\n",
       "      <td>The Slaughtered Virgin of Zenopolis (Inspector...</td>\n",
       "    </tr>\n",
       "    <tr>\n",
       "      <th>3</th>\n",
       "      <td>8</td>\n",
       "      <td>3.30</td>\n",
       "      <td>Gerald breezily introduced his wife, Helen, to...</td>\n",
       "      <td>[{'author_id': '190988', 'role': ''}]</td>\n",
       "      <td>1902202</td>\n",
       "      <td>52</td>\n",
       "      <td>Dead in the Morning (Patrick Grant, #1)</td>\n",
       "    </tr>\n",
       "    <tr>\n",
       "      <th>4</th>\n",
       "      <td>3</td>\n",
       "      <td>3.54</td>\n",
       "      <td>\"I misteri di Eleusi\" e il quinto romanzo di A...</td>\n",
       "      <td>[{'author_id': '337108', 'role': ''}, {'author...</td>\n",
       "      <td>9671977</td>\n",
       "      <td>22</td>\n",
       "      <td>Aristotele e i misteri di Eleusi</td>\n",
       "    </tr>\n",
       "    <tr>\n",
       "      <th>...</th>\n",
       "      <td>...</td>\n",
       "      <td>...</td>\n",
       "      <td>...</td>\n",
       "      <td>...</td>\n",
       "      <td>...</td>\n",
       "      <td>...</td>\n",
       "      <td>...</td>\n",
       "    </tr>\n",
       "    <tr>\n",
       "      <th>219230</th>\n",
       "      <td>1</td>\n",
       "      <td>3.86</td>\n",
       "      <td>\"Sayfalari cevirirken nefesinizin kesildigini ...</td>\n",
       "      <td>[{'author_id': '47072', 'role': ''}, {'author_...</td>\n",
       "      <td>9877072</td>\n",
       "      <td>37</td>\n",
       "      <td>Deja Vu</td>\n",
       "    </tr>\n",
       "    <tr>\n",
       "      <th>219231</th>\n",
       "      <td>6</td>\n",
       "      <td>3.81</td>\n",
       "      <td>From the author of The Cotswolds Werewolf come...</td>\n",
       "      <td>[{'author_id': '16176417', 'role': ''}]</td>\n",
       "      <td>26591045</td>\n",
       "      <td>16</td>\n",
       "      <td>The Sensible Necktie and Other Stories of Sher...</td>\n",
       "    </tr>\n",
       "    <tr>\n",
       "      <th>219232</th>\n",
       "      <td>3</td>\n",
       "      <td>4.11</td>\n",
       "      <td>Accompanied by Holmes and Watson, Mrs. Hudson ...</td>\n",
       "      <td>[{'author_id': '5401342', 'role': ''}]</td>\n",
       "      <td>25727303</td>\n",
       "      <td>6</td>\n",
       "      <td>Mrs. Hudson in New York</td>\n",
       "    </tr>\n",
       "    <tr>\n",
       "      <th>219233</th>\n",
       "      <td>7</td>\n",
       "      <td>4.00</td>\n",
       "      <td>When Kirk Stanford moves into his new home, st...</td>\n",
       "      <td>[{'author_id': '4590885', 'role': ''}]</td>\n",
       "      <td>23252156</td>\n",
       "      <td>16</td>\n",
       "      <td>Wicked Reflection</td>\n",
       "    </tr>\n",
       "    <tr>\n",
       "      <th>219234</th>\n",
       "      <td>2</td>\n",
       "      <td>3.50</td>\n",
       "      <td>Sir Arthur Conan Doyle is brought back to life...</td>\n",
       "      <td>[{'author_id': '2448', 'role': ''}, {'author_i...</td>\n",
       "      <td>26168430</td>\n",
       "      <td>6</td>\n",
       "      <td>Sherlock Holmes and the July Crisis</td>\n",
       "    </tr>\n",
       "  </tbody>\n",
       "</table>\n",
       "<p>219235 rows × 7 columns</p>\n",
       "</div>"
      ],
      "text/plain": [
       "        text_reviews_count  average_rating  \\\n",
       "0                       15            3.93   \n",
       "1                       60            4.33   \n",
       "2                       23            3.49   \n",
       "3                        8            3.30   \n",
       "4                        3            3.54   \n",
       "...                    ...             ...   \n",
       "219230                   1            3.86   \n",
       "219231                   6            3.81   \n",
       "219232                   3            4.11   \n",
       "219233                   7            4.00   \n",
       "219234                   2            3.50   \n",
       "\n",
       "                                              description  \\\n",
       "0       London, 1196. At the command of Richard the Li...   \n",
       "1                                                           \n",
       "2       BATHS, BANKS AND ROMAN INSURRECTION\\nDetective...   \n",
       "3       Gerald breezily introduced his wife, Helen, to...   \n",
       "4       \"I misteri di Eleusi\" e il quinto romanzo di A...   \n",
       "...                                                   ...   \n",
       "219230  \"Sayfalari cevirirken nefesinizin kesildigini ...   \n",
       "219231  From the author of The Cotswolds Werewolf come...   \n",
       "219232  Accompanied by Holmes and Watson, Mrs. Hudson ...   \n",
       "219233  When Kirk Stanford moves into his new home, st...   \n",
       "219234  Sir Arthur Conan Doyle is brought back to life...   \n",
       "\n",
       "                                                  authors   book_id  \\\n",
       "0                    [{'author_id': '37778', 'role': ''}]   6066814   \n",
       "1                   [{'author_id': '242185', 'role': ''}]  33394837   \n",
       "2       [{'author_id': '15104629', 'role': ''}, {'auth...  29074697   \n",
       "3                   [{'author_id': '190988', 'role': ''}]   1902202   \n",
       "4       [{'author_id': '337108', 'role': ''}, {'author...   9671977   \n",
       "...                                                   ...       ...   \n",
       "219230  [{'author_id': '47072', 'role': ''}, {'author_...   9877072   \n",
       "219231            [{'author_id': '16176417', 'role': ''}]  26591045   \n",
       "219232             [{'author_id': '5401342', 'role': ''}]  25727303   \n",
       "219233             [{'author_id': '4590885', 'role': ''}]  23252156   \n",
       "219234  [{'author_id': '2448', 'role': ''}, {'author_i...  26168430   \n",
       "\n",
       "        ratings_count                                              title  \n",
       "0                 186          Crowner Royal (Crowner John Mystery, #13)  \n",
       "1                 269            The House of Memory (Pluto's Snitch #2)  \n",
       "2                 192  The Slaughtered Virgin of Zenopolis (Inspector...  \n",
       "3                  52            Dead in the Morning (Patrick Grant, #1)  \n",
       "4                  22                   Aristotele e i misteri di Eleusi  \n",
       "...               ...                                                ...  \n",
       "219230             37                                            Deja Vu  \n",
       "219231             16  The Sensible Necktie and Other Stories of Sher...  \n",
       "219232              6                            Mrs. Hudson in New York  \n",
       "219233             16                                  Wicked Reflection  \n",
       "219234              6                Sherlock Holmes and the July Crisis  \n",
       "\n",
       "[219235 rows x 7 columns]"
      ]
     },
     "execution_count": 14,
     "metadata": {},
     "output_type": "execute_result"
    }
   ],
   "source": [
    "books_pd"
   ]
  },
  {
   "cell_type": "code",
   "execution_count": 15,
   "metadata": {},
   "outputs": [
    {
     "data": {
      "text/plain": [
       "text_reviews_count      int32\n",
       "average_rating        float32\n",
       "description            object\n",
       "authors                object\n",
       "book_id                object\n",
       "ratings_count           int32\n",
       "title                  object\n",
       "dtype: object"
      ]
     },
     "execution_count": 15,
     "metadata": {},
     "output_type": "execute_result"
    }
   ],
   "source": [
    "books_pd.dtypes"
   ]
  },
  {
   "cell_type": "markdown",
   "metadata": {},
   "source": [
    "### Load reviews"
   ]
  },
  {
   "cell_type": "code",
   "execution_count": 16,
   "metadata": {},
   "outputs": [],
   "source": [
    "reviews_dict = json.loads(raw_review)"
   ]
  },
  {
   "cell_type": "code",
   "execution_count": 17,
   "metadata": {},
   "outputs": [
    {
     "data": {
      "text/plain": [
       "{'user_id': '8842281e1d1347389f2ab93d60773d4d',\n",
       " 'book_id': '6392944',\n",
       " 'review_id': '5e212a62bced17b4dbe41150e5bb9037',\n",
       " 'rating': 3,\n",
       " 'review_text': \"I haven't read a fun mystery book in a while and not sure I've ever read Poirot. Was looking for a fun read set in France while I was on holiday there and this didn't disappoint! Fast paced and good mystery. \\n One that struck me was how similar Poirot is to Sherlock. They are both detectives, have a ex-military sidekick who is telling the story, and solve mysteries using their superior wit. Poirot seems like a French Sherlock. I'm curious if he was inspired by Sherlock.\",\n",
       " 'date_added': 'Mon Jul 24 02:48:17 -0700 2017',\n",
       " 'date_updated': 'Sun Jul 30 09:28:03 -0700 2017',\n",
       " 'read_at': 'Tue Jul 25 00:00:00 -0700 2017',\n",
       " 'started_at': 'Mon Jul 24 00:00:00 -0700 2017',\n",
       " 'n_votes': 6,\n",
       " 'n_comments': 0}"
      ]
     },
     "execution_count": 17,
     "metadata": {},
     "output_type": "execute_result"
    }
   ],
   "source": [
    "reviews_dict"
   ]
  },
  {
   "cell_type": "code",
   "execution_count": 18,
   "metadata": {},
   "outputs": [],
   "source": [
    "def fetch_keys_reviews(reviews_dict):\n",
    "    keys_to_fetch = ['user_id','book_id', 'review_id', 'rating', 'review_text']\n",
    "    return {k: v for k, v in reviews_dict.items() if k in keys_to_fetch}"
   ]
  },
  {
   "cell_type": "code",
   "execution_count": 19,
   "metadata": {},
   "outputs": [
    {
     "data": {
      "text/plain": [
       "{'user_id': '8842281e1d1347389f2ab93d60773d4d',\n",
       " 'book_id': '6392944',\n",
       " 'review_id': '5e212a62bced17b4dbe41150e5bb9037',\n",
       " 'rating': 3,\n",
       " 'review_text': \"I haven't read a fun mystery book in a while and not sure I've ever read Poirot. Was looking for a fun read set in France while I was on holiday there and this didn't disappoint! Fast paced and good mystery. \\n One that struck me was how similar Poirot is to Sherlock. They are both detectives, have a ex-military sidekick who is telling the story, and solve mysteries using their superior wit. Poirot seems like a French Sherlock. I'm curious if he was inspired by Sherlock.\"}"
      ]
     },
     "execution_count": 19,
     "metadata": {},
     "output_type": "execute_result"
    }
   ],
   "source": [
    "fetch_keys_reviews(reviews_dict)"
   ]
  },
  {
   "cell_type": "code",
   "execution_count": 20,
   "metadata": {},
   "outputs": [
    {
     "name": "stdout",
     "output_type": "stream",
     "text": [
      "starting\n",
      "Preparing review: 10000. Seconds passed: 0.48304200172424316\n",
      "Preparing review: 20000. Seconds passed: 0.9550285339355469\n",
      "Preparing review: 30000. Seconds passed: 1.5194249153137207\n",
      "Preparing review: 40000. Seconds passed: 2.0869901180267334\n",
      "Preparing review: 50000. Seconds passed: 2.551727056503296\n",
      "Preparing review: 60000. Seconds passed: 3.0408151149749756\n",
      "Preparing review: 70000. Seconds passed: 3.5937631130218506\n",
      "Preparing review: 80000. Seconds passed: 4.060288429260254\n",
      "Preparing review: 90000. Seconds passed: 4.572584867477417\n",
      "Preparing review: 100000. Seconds passed: 5.085308790206909\n",
      "Preparing review: 110000. Seconds passed: 5.555309772491455\n",
      "Preparing review: 120000. Seconds passed: 6.019280195236206\n",
      "Preparing review: 130000. Seconds passed: 6.463572978973389\n",
      "Preparing review: 140000. Seconds passed: 7.009310483932495\n",
      "Preparing review: 150000. Seconds passed: 7.481724500656128\n",
      "Preparing review: 160000. Seconds passed: 7.955551385879517\n",
      "Preparing review: 170000. Seconds passed: 8.468750715255737\n",
      "Preparing review: 180000. Seconds passed: 8.922065734863281\n",
      "Preparing review: 190000. Seconds passed: 9.3733491897583\n",
      "Preparing review: 200000. Seconds passed: 9.893917083740234\n",
      "Preparing review: 210000. Seconds passed: 10.506399631500244\n",
      "Preparing review: 220000. Seconds passed: 11.005894422531128\n",
      "Preparing review: 230000. Seconds passed: 11.503858804702759\n",
      "Preparing review: 240000. Seconds passed: 12.041457176208496\n",
      "Preparing review: 250000. Seconds passed: 12.52234673500061\n",
      "Preparing review: 260000. Seconds passed: 13.037200927734375\n",
      "Preparing review: 270000. Seconds passed: 13.661242485046387\n",
      "Preparing review: 280000. Seconds passed: 14.1592435836792\n",
      "Preparing review: 290000. Seconds passed: 14.721656084060669\n",
      "Preparing review: 300000. Seconds passed: 15.224704504013062\n",
      "Preparing review: 310000. Seconds passed: 15.721091032028198\n",
      "Preparing review: 320000. Seconds passed: 16.21728825569153\n",
      "Preparing review: 330000. Seconds passed: 16.774102926254272\n",
      "Preparing review: 340000. Seconds passed: 17.209373235702515\n",
      "Preparing review: 350000. Seconds passed: 17.74717140197754\n",
      "Preparing review: 360000. Seconds passed: 18.316371202468872\n",
      "Preparing review: 370000. Seconds passed: 18.77914524078369\n",
      "Preparing review: 380000. Seconds passed: 19.280965566635132\n",
      "Preparing review: 390000. Seconds passed: 19.74432897567749\n",
      "Preparing review: 400000. Seconds passed: 20.22441029548645\n",
      "Preparing review: 410000. Seconds passed: 20.7523934841156\n",
      "Preparing review: 420000. Seconds passed: 21.473644256591797\n",
      "Preparing review: 430000. Seconds passed: 21.93881320953369\n",
      "Preparing review: 440000. Seconds passed: 22.3963725566864\n",
      "Preparing review: 450000. Seconds passed: 22.897328853607178\n",
      "Preparing review: 460000. Seconds passed: 23.42804765701294\n",
      "Preparing review: 470000. Seconds passed: 23.86268711090088\n",
      "Preparing review: 480000. Seconds passed: 24.374011754989624\n",
      "Preparing review: 490000. Seconds passed: 24.904810905456543\n",
      "Preparing review: 500000. Seconds passed: 25.345826625823975\n",
      "Preparing review: 510000. Seconds passed: 25.838996171951294\n",
      "Preparing review: 520000. Seconds passed: 26.30940866470337\n",
      "Preparing review: 530000. Seconds passed: 26.821450233459473\n",
      "Preparing review: 540000. Seconds passed: 27.38132357597351\n",
      "Preparing review: 550000. Seconds passed: 27.927984714508057\n",
      "Preparing review: 560000. Seconds passed: 28.642601251602173\n",
      "Preparing review: 570000. Seconds passed: 29.241264820098877\n",
      "Preparing review: 580000. Seconds passed: 29.90733504295349\n",
      "Preparing review: 590000. Seconds passed: 30.646127223968506\n",
      "Preparing review: 600000. Seconds passed: 31.324029684066772\n",
      "Preparing review: 610000. Seconds passed: 31.876896381378174\n",
      "Preparing review: 620000. Seconds passed: 32.36472845077515\n",
      "Preparing review: 630000. Seconds passed: 32.83346891403198\n",
      "Preparing review: 640000. Seconds passed: 33.278632164001465\n",
      "Preparing review: 650000. Seconds passed: 33.831345558166504\n",
      "Preparing review: 660000. Seconds passed: 34.35616636276245\n",
      "Preparing review: 670000. Seconds passed: 34.837849617004395\n",
      "Preparing review: 680000. Seconds passed: 35.30751872062683\n",
      "Preparing review: 690000. Seconds passed: 35.811702728271484\n",
      "Preparing review: 700000. Seconds passed: 36.31984758377075\n",
      "Preparing review: 710000. Seconds passed: 36.80930423736572\n",
      "Preparing review: 720000. Seconds passed: 37.3394513130188\n",
      "Preparing review: 730000. Seconds passed: 37.80466938018799\n",
      "Preparing review: 740000. Seconds passed: 38.396146297454834\n",
      "Preparing review: 750000. Seconds passed: 39.0731885433197\n",
      "Preparing review: 760000. Seconds passed: 39.6587336063385\n",
      "Preparing review: 770000. Seconds passed: 40.14145350456238\n",
      "Preparing review: 780000. Seconds passed: 40.610400438308716\n",
      "Preparing review: 790000. Seconds passed: 41.182257652282715\n",
      "Preparing review: 800000. Seconds passed: 41.72708511352539\n",
      "Preparing review: 810000. Seconds passed: 42.23318314552307\n",
      "Preparing review: 820000. Seconds passed: 42.723297357559204\n",
      "Preparing review: 830000. Seconds passed: 43.1617066860199\n",
      "Preparing review: 840000. Seconds passed: 43.825817346572876\n",
      "Preparing review: 850000. Seconds passed: 44.61769223213196\n",
      "Preparing review: 860000. Seconds passed: 45.11934304237366\n",
      "Preparing review: 870000. Seconds passed: 45.704514503479004\n",
      "Preparing review: 880000. Seconds passed: 46.21925759315491\n",
      "Preparing review: 890000. Seconds passed: 46.805766344070435\n",
      "Preparing review: 900000. Seconds passed: 47.308626651763916\n",
      "Preparing review: 910000. Seconds passed: 47.75854778289795\n",
      "Preparing review: 920000. Seconds passed: 48.25905704498291\n",
      "Preparing review: 930000. Seconds passed: 49.069212675094604\n",
      "Preparing review: 940000. Seconds passed: 49.731043100357056\n",
      "Preparing review: 950000. Seconds passed: 50.37270522117615\n",
      "Preparing review: 960000. Seconds passed: 51.002543926239014\n",
      "Preparing review: 970000. Seconds passed: 51.48860788345337\n",
      "Preparing review: 980000. Seconds passed: 51.94204258918762\n",
      "Preparing review: 990000. Seconds passed: 52.541972160339355\n",
      "Preparing review: 1000000. Seconds passed: 53.04600667953491\n",
      "Preparing review: 1010000. Seconds passed: 53.52430081367493\n",
      "Preparing review: 1020000. Seconds passed: 53.990307092666626\n",
      "Preparing review: 1030000. Seconds passed: 54.4982168674469\n",
      "Preparing review: 1040000. Seconds passed: 55.04063057899475\n",
      "Preparing review: 1050000. Seconds passed: 55.496208906173706\n",
      "Preparing review: 1060000. Seconds passed: 55.94892764091492\n",
      "Preparing review: 1070000. Seconds passed: 56.4514856338501\n",
      "Preparing review: 1080000. Seconds passed: 56.908735036849976\n",
      "Preparing review: 1090000. Seconds passed: 57.405186891555786\n",
      "Preparing review: 1100000. Seconds passed: 57.88483119010925\n",
      "Preparing review: 1110000. Seconds passed: 58.42178010940552\n",
      "Preparing review: 1120000. Seconds passed: 58.87129759788513\n",
      "Preparing review: 1130000. Seconds passed: 59.28708362579346\n",
      "Preparing review: 1140000. Seconds passed: 59.69131851196289\n",
      "Preparing review: 1150000. Seconds passed: 60.160651206970215\n",
      "Preparing review: 1160000. Seconds passed: 60.64490222930908\n",
      "Preparing review: 1170000. Seconds passed: 61.116832971572876\n",
      "Preparing review: 1180000. Seconds passed: 61.62123417854309\n",
      "Preparing review: 1190000. Seconds passed: 62.11241841316223\n",
      "Preparing review: 1200000. Seconds passed: 62.61547374725342\n",
      "Preparing review: 1210000. Seconds passed: 63.038411378860474\n",
      "Preparing review: 1220000. Seconds passed: 63.51615285873413\n",
      "Preparing review: 1230000. Seconds passed: 64.02123379707336\n",
      "Preparing review: 1240000. Seconds passed: 64.59480690956116\n",
      "Preparing review: 1250000. Seconds passed: 65.11351299285889\n",
      "Preparing review: 1260000. Seconds passed: 65.58840036392212\n",
      "Preparing review: 1270000. Seconds passed: 66.20890665054321\n",
      "Preparing review: 1280000. Seconds passed: 66.97236967086792\n",
      "Preparing review: 1290000. Seconds passed: 67.54937505722046\n",
      "Preparing review: 1300000. Seconds passed: 68.01295876502991\n",
      "Preparing review: 1310000. Seconds passed: 68.52267646789551\n",
      "Preparing review: 1320000. Seconds passed: 69.12892889976501\n",
      "Preparing review: 1330000. Seconds passed: 69.71828031539917\n",
      "Preparing review: 1340000. Seconds passed: 70.21436095237732\n",
      "Preparing review: 1350000. Seconds passed: 70.74093675613403\n",
      "Preparing review: 1360000. Seconds passed: 71.21460223197937\n",
      "Preparing review: 1370000. Seconds passed: 71.80018067359924\n",
      "Preparing review: 1380000. Seconds passed: 72.3080883026123\n",
      "Preparing review: 1390000. Seconds passed: 72.85045671463013\n",
      "Preparing review: 1400000. Seconds passed: 73.50272297859192\n",
      "Preparing review: 1410000. Seconds passed: 74.2009801864624\n",
      "Preparing review: 1420000. Seconds passed: 74.92646932601929\n",
      "Preparing review: 1430000. Seconds passed: 75.68559908866882\n",
      "Preparing review: 1440000. Seconds passed: 76.44190907478333\n",
      "Preparing review: 1450000. Seconds passed: 77.34360671043396\n",
      "Preparing review: 1460000. Seconds passed: 78.57714223861694\n",
      "Preparing review: 1470000. Seconds passed: 79.73571228981018\n",
      "Preparing review: 1480000. Seconds passed: 80.64847183227539\n",
      "Preparing review: 1490000. Seconds passed: 81.30800151824951\n",
      "Preparing review: 1500000. Seconds passed: 82.05759477615356\n",
      "Preparing review: 1510000. Seconds passed: 82.9625735282898\n",
      "Preparing review: 1520000. Seconds passed: 83.64267110824585\n",
      "Preparing review: 1530000. Seconds passed: 84.26991605758667\n",
      "Preparing review: 1540000. Seconds passed: 84.91379451751709\n",
      "Preparing review: 1550000. Seconds passed: 85.39398980140686\n",
      "Preparing review: 1560000. Seconds passed: 85.98789262771606\n",
      "Preparing review: 1570000. Seconds passed: 86.6624801158905\n",
      "Preparing review: 1580000. Seconds passed: 87.17810344696045\n",
      "Preparing review: 1590000. Seconds passed: 87.71298217773438\n",
      "Preparing review: 1600000. Seconds passed: 88.27168941497803\n",
      "Preparing review: 1610000. Seconds passed: 89.08996295928955\n",
      "Preparing review: 1620000. Seconds passed: 89.9088306427002\n",
      "Preparing review: 1630000. Seconds passed: 90.55761909484863\n",
      "Preparing review: 1640000. Seconds passed: 91.20813202857971\n",
      "Preparing review: 1650000. Seconds passed: 91.9524085521698\n",
      "Preparing review: 1660000. Seconds passed: 92.69508671760559\n",
      "Preparing review: 1670000. Seconds passed: 93.3928427696228\n",
      "Preparing review: 1680000. Seconds passed: 94.15105938911438\n",
      "Preparing review: 1690000. Seconds passed: 94.9268114566803\n",
      "Preparing review: 1700000. Seconds passed: 95.86240339279175\n",
      "Preparing review: 1710000. Seconds passed: 96.70991325378418\n",
      "Preparing review: 1720000. Seconds passed: 97.37505030632019\n",
      "Preparing review: 1730000. Seconds passed: 98.07925271987915\n",
      "Preparing review: 1740000. Seconds passed: 98.75005888938904\n",
      "Preparing review: 1750000. Seconds passed: 99.385244846344\n",
      "Preparing review: 1760000. Seconds passed: 99.98877882957458\n",
      "Preparing review: 1770000. Seconds passed: 100.46285390853882\n",
      "Preparing review: 1780000. Seconds passed: 100.92950320243835\n",
      "Preparing review: 1790000. Seconds passed: 101.38155937194824\n",
      "Preparing review: 1800000. Seconds passed: 101.88802552223206\n",
      "Preparing review: 1810000. Seconds passed: 102.38167929649353\n",
      "Preparing review: 1820000. Seconds passed: 102.8776307106018\n",
      "Preparing review: 1830000. Seconds passed: 103.52177214622498\n",
      "Preparing review: 1840000. Seconds passed: 104.19201755523682\n"
     ]
    }
   ],
   "source": [
    "LIMIT_REVIEWS = None\n",
    "\n",
    "\n",
    "with gzip.open('data/goodreads_reviews_mystery_thriller_crime.json.gz','r') as file:\n",
    "    time_start = time.time()\n",
    "    if LIMIT_REVIEWS is None:\n",
    "        reviews_list = []\n",
    "        review_no = 0\n",
    "        print('starting')\n",
    "        \n",
    "        # Load next line\n",
    "        for raw_reviews in file:\n",
    "            \n",
    "            review_no += 1\n",
    "            if review_no % 10000 == 0:\n",
    "                # Logging\n",
    "                print('Preparing review: ' + str(review_no) + '. Seconds passed: ' + str(time.time()- time_start))\n",
    "            try:\n",
    "                # Try to load and preprocess\n",
    "                reviews_dict = json.loads(raw_reviews)\n",
    "                reviews_list.append(fetch_keys_reviews(reviews_dict))\n",
    "            except Exception as e:\n",
    "                # Print contents of failed line\n",
    "                print('Failure at review no. ' + str(review_no))\n",
    "                print(e)\n",
    "                print('contents:')\n",
    "                print(raw_review)\n",
    "                print('---------------------')\n",
    "                \n",
    "    else:\n",
    "        # For testing - smaller subset\n",
    "        reviews_list = [None]*LIMIT_REVIEWS\n",
    "        for i in range(LIMIT_REVIEWS):\n",
    "            raw_review = next(file)\n",
    "            review_dict = json.loads(raw_review)\n",
    "            reviews_list[i] = fetch_keys_reviews(review_dict)\n",
    "        "
   ]
  },
  {
   "cell_type": "code",
   "execution_count": 21,
   "metadata": {},
   "outputs": [
    {
     "data": {
      "text/plain": [
       "1849236"
      ]
     },
     "execution_count": 21,
     "metadata": {},
     "output_type": "execute_result"
    }
   ],
   "source": [
    "len(reviews_list) #1,849,236 detailed reviews -cool"
   ]
  },
  {
   "cell_type": "code",
   "execution_count": 22,
   "metadata": {},
   "outputs": [
    {
     "data": {
      "text/plain": [
       "{'user_id': '18759758c7cf75975cff3fbb1363a73f',\n",
       " 'book_id': '66559',\n",
       " 'review_id': 'f9507ee8ce7f577d9d29f7ea98b15614',\n",
       " 'rating': 3,\n",
       " 'review_text': '7/10 La opera prima de la autora de la celeberrima Perdida me ha gustado menos que aquella. Un posible asesino serial en un pueblecito perdido de los EEUU, una periodista que crecio en dicho pueblo y pretende hacer un reportaje sobre ello. Se lee con interes pero no sorprende como la citada Perdida. Por cierto habra pelicula de ambas.'}"
      ]
     },
     "execution_count": 22,
     "metadata": {},
     "output_type": "execute_result"
    }
   ],
   "source": [
    "reviews_list[1000]"
   ]
  },
  {
   "cell_type": "markdown",
   "metadata": {},
   "source": [
    "^^ Non-english reviews - to drop/separate later"
   ]
  },
  {
   "cell_type": "code",
   "execution_count": 23,
   "metadata": {},
   "outputs": [],
   "source": [
    "reviews_pd = pd.DataFrame(reviews_list).astype({'rating': 'int32'})"
   ]
  },
  {
   "cell_type": "code",
   "execution_count": 24,
   "metadata": {},
   "outputs": [
    {
     "data": {
      "text/html": [
       "<div>\n",
       "<style scoped>\n",
       "    .dataframe tbody tr th:only-of-type {\n",
       "        vertical-align: middle;\n",
       "    }\n",
       "\n",
       "    .dataframe tbody tr th {\n",
       "        vertical-align: top;\n",
       "    }\n",
       "\n",
       "    .dataframe thead th {\n",
       "        text-align: right;\n",
       "    }\n",
       "</style>\n",
       "<table border=\"1\" class=\"dataframe\">\n",
       "  <thead>\n",
       "    <tr style=\"text-align: right;\">\n",
       "      <th></th>\n",
       "      <th>user_id</th>\n",
       "      <th>book_id</th>\n",
       "      <th>review_id</th>\n",
       "      <th>rating</th>\n",
       "      <th>review_text</th>\n",
       "    </tr>\n",
       "  </thead>\n",
       "  <tbody>\n",
       "    <tr>\n",
       "      <th>0</th>\n",
       "      <td>8842281e1d1347389f2ab93d60773d4d</td>\n",
       "      <td>6392944</td>\n",
       "      <td>5e212a62bced17b4dbe41150e5bb9037</td>\n",
       "      <td>3</td>\n",
       "      <td>I haven't read a fun mystery book in a while a...</td>\n",
       "    </tr>\n",
       "    <tr>\n",
       "      <th>1</th>\n",
       "      <td>8842281e1d1347389f2ab93d60773d4d</td>\n",
       "      <td>28684704</td>\n",
       "      <td>2ede853b14dc4583f96cf5d120af636f</td>\n",
       "      <td>3</td>\n",
       "      <td>A fun, fast paced science fiction thriller. I ...</td>\n",
       "    </tr>\n",
       "    <tr>\n",
       "      <th>2</th>\n",
       "      <td>8842281e1d1347389f2ab93d60773d4d</td>\n",
       "      <td>32283133</td>\n",
       "      <td>8e4d61801907e591018bdc3442a9cf2b</td>\n",
       "      <td>0</td>\n",
       "      <td>http://www.telegraph.co.uk/culture/10...</td>\n",
       "    </tr>\n",
       "    <tr>\n",
       "      <th>3</th>\n",
       "      <td>8842281e1d1347389f2ab93d60773d4d</td>\n",
       "      <td>17860739</td>\n",
       "      <td>022bb6daffa49adc27f6b20b6ebeb37d</td>\n",
       "      <td>4</td>\n",
       "      <td>An amazing and unique creation: JJ Abrams and ...</td>\n",
       "    </tr>\n",
       "    <tr>\n",
       "      <th>4</th>\n",
       "      <td>8842281e1d1347389f2ab93d60773d4d</td>\n",
       "      <td>8694005</td>\n",
       "      <td>0e317947e1fd341f573192111bb2921d</td>\n",
       "      <td>3</td>\n",
       "      <td>The Name of the Rose is a thrilling Dan Brown-...</td>\n",
       "    </tr>\n",
       "  </tbody>\n",
       "</table>\n",
       "</div>"
      ],
      "text/plain": [
       "                            user_id   book_id  \\\n",
       "0  8842281e1d1347389f2ab93d60773d4d   6392944   \n",
       "1  8842281e1d1347389f2ab93d60773d4d  28684704   \n",
       "2  8842281e1d1347389f2ab93d60773d4d  32283133   \n",
       "3  8842281e1d1347389f2ab93d60773d4d  17860739   \n",
       "4  8842281e1d1347389f2ab93d60773d4d   8694005   \n",
       "\n",
       "                          review_id  rating  \\\n",
       "0  5e212a62bced17b4dbe41150e5bb9037       3   \n",
       "1  2ede853b14dc4583f96cf5d120af636f       3   \n",
       "2  8e4d61801907e591018bdc3442a9cf2b       0   \n",
       "3  022bb6daffa49adc27f6b20b6ebeb37d       4   \n",
       "4  0e317947e1fd341f573192111bb2921d       3   \n",
       "\n",
       "                                         review_text  \n",
       "0  I haven't read a fun mystery book in a while a...  \n",
       "1  A fun, fast paced science fiction thriller. I ...  \n",
       "2           http://www.telegraph.co.uk/culture/10...  \n",
       "3  An amazing and unique creation: JJ Abrams and ...  \n",
       "4  The Name of the Rose is a thrilling Dan Brown-...  "
      ]
     },
     "execution_count": 24,
     "metadata": {},
     "output_type": "execute_result"
    }
   ],
   "source": [
    "reviews_pd.head()"
   ]
  },
  {
   "cell_type": "code",
   "execution_count": 25,
   "metadata": {},
   "outputs": [
    {
     "data": {
      "text/plain": [
       "user_id        object\n",
       "book_id        object\n",
       "review_id      object\n",
       "rating          int32\n",
       "review_text    object\n",
       "dtype: object"
      ]
     },
     "execution_count": 25,
     "metadata": {},
     "output_type": "execute_result"
    }
   ],
   "source": [
    "reviews_pd.dtypes"
   ]
  },
  {
   "cell_type": "markdown",
   "metadata": {},
   "source": [
    "### Dump data to file"
   ]
  },
  {
   "cell_type": "code",
   "execution_count": 26,
   "metadata": {},
   "outputs": [],
   "source": [
    "reviews_pd.to_csv('data/reviews.csv')\n",
    "books_pd.to_csv('data/books.csv')"
   ]
  }
 ],
 "metadata": {
  "kernelspec": {
   "display_name": "Python 3",
   "language": "python",
   "name": "python3"
  },
  "language_info": {
   "codemirror_mode": {
    "name": "ipython",
    "version": 3
   },
   "file_extension": ".py",
   "mimetype": "text/x-python",
   "name": "python",
   "nbconvert_exporter": "python",
   "pygments_lexer": "ipython3",
   "version": "3.8.3"
  }
 },
 "nbformat": 4,
 "nbformat_minor": 4
}
